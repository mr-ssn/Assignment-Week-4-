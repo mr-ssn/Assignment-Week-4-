{
 "cells": [
  {
   "cell_type": "markdown",
   "id": "e3a648c9-9b30-4f10-bf7e-78495cd60e41",
   "metadata": {},
   "source": [
    "# My Jupyter Notebook on IBM Watson Studio"
   ]
  },
  {
   "cell_type": "markdown",
   "id": "952ffb03-aa88-4fa9-9a19-31a5fb9ea428",
   "metadata": {},
   "source": [
    "__Syed Saad Nasim__ <br> Future Data Scientist"
   ]
  },
  {
   "cell_type": "markdown",
   "id": "1b5cd7b0-a166-4072-8728-0ab3ec6fb84f",
   "metadata": {},
   "source": [
    "_I am interested in data science because I love programming, presenting and giving insights and solving business' critical problems_ "
   ]
  },
  {
   "cell_type": "markdown",
   "id": "53f03e25-0d06-47da-9583-56ad98e3ba21",
   "metadata": {},
   "source": [
    "### Code written below is about to Print a message"
   ]
  },
  {
   "cell_type": "code",
   "execution_count": 1,
   "id": "8eb80e8d-c283-4b3f-84b4-703746e6feb3",
   "metadata": {},
   "outputs": [
    {
     "name": "stdout",
     "output_type": "stream",
     "text": [
      "Hello Random Peer! I wish all your dreams come true\n"
     ]
    }
   ],
   "source": [
    "print (\"Hello Random Peer! I wish all your dreams come true\")"
   ]
  },
  {
   "cell_type": "markdown",
   "id": "76204320-f0c3-495a-8c5c-63021cc77783",
   "metadata": {},
   "source": [
    "***\n",
    "- Apples\n",
    "- Bananas\n",
    "- Carrots\n",
    "\n",
    "***\n",
    "\n",
    "__[Take a Break and Enjoy Some Random Facts](https://thetravelintern.com/fun-facts-about-the-world/)__\n",
    "\n",
    "***\n",
    "\n",
    "<blockquote> Note: Don't get too lost in the facts </blockquote>\n",
    "\n",
    "***"
   ]
  },
  {
   "cell_type": "code",
   "execution_count": null,
   "id": "15224724-7161-47a9-ba2c-eb10c3c0564f",
   "metadata": {},
   "outputs": [],
   "source": []
  }
 ],
 "metadata": {
  "kernelspec": {
   "display_name": "Python 3 (ipykernel)",
   "language": "python",
   "name": "python3"
  },
  "language_info": {
   "codemirror_mode": {
    "name": "ipython",
    "version": 3
   },
   "file_extension": ".py",
   "mimetype": "text/x-python",
   "name": "python",
   "nbconvert_exporter": "python",
   "pygments_lexer": "ipython3",
   "version": "3.9.7"
  }
 },
 "nbformat": 4,
 "nbformat_minor": 5
}
